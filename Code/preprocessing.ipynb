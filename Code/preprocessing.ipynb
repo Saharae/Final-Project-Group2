{
 "cells": [
  {
   "cell_type": "code",
   "execution_count": 1,
   "id": "e870cee0-b0ff-41e8-a706-9f529c158ecb",
   "metadata": {},
   "outputs": [],
   "source": [
    "import pandas as pd\n",
    "import numpy as np\n",
    "import seaborn as sns\n",
    "from matplotlib import pyplot as plt"
   ]
  },
  {
   "cell_type": "code",
   "execution_count": 3,
   "id": "b12d87f7-1e25-4ccf-a4dd-af06eb79336d",
   "metadata": {},
   "outputs": [
    {
     "name": "stderr",
     "output_type": "stream",
     "text": [
      "/Users/sahara/opt/anaconda3/lib/python3.7/site-packages/IPython/core/interactiveshell.py:3170: DtypeWarning: Columns (3) have mixed types.Specify dtype option on import or set low_memory=False.\n",
      "  interactivity=interactivity, compiler=compiler, result=result)\n"
     ]
    }
   ],
   "source": [
    "# need to specify datatype on import!\n",
    "\n",
    "base = '/Users/sahara/Documents/GW/DataMining/Final-Project-Group2'\n",
    "ratings = pd.read_csv(f'{base}/data/IMDb ratings.csv')\n",
    "movies = pd.read_csv(f'{base}/data/IMDb movies.csv')\n",
    "names = pd.read_csv(f'{base}/data/IMDb names.csv')\n",
    "#titles = pd.read_csv('data/IMDb title_principals.csv') --- dont need this table"
   ]
  },
  {
   "cell_type": "code",
   "execution_count": 40,
   "id": "f2ba6f40-13aa-4b2f-bc94-2687d1f10e30",
   "metadata": {},
   "outputs": [],
   "source": [
    "def clean_budget(x):\n",
    "    white = x.find(' ')\n",
    "    trimmed = x[white+1:]\n",
    "    return int(trimmed)"
   ]
  },
  {
   "cell_type": "code",
   "execution_count": 56,
   "id": "bb664ed3-3459-4f47-b95e-a02506cfd267",
   "metadata": {
    "tags": []
   },
   "outputs": [],
   "source": [
    "US_movies = movies[movies['country'] == 'USA']\n",
    "US_movies = US_movies[US_movies['budget'].isna() == False]\n",
    "US_movies['budget'] = US_movies['budget'].apply(clean_budget)\n",
    "\n",
    "only_votes = ratings[['weighted_average_vote', 'allgenders_0age_avg_vote', 'allgenders_0age_votes',\n",
    "       'allgenders_18age_avg_vote', 'allgenders_18age_votes',\n",
    "       'allgenders_30age_avg_vote', 'allgenders_30age_votes',\n",
    "       'allgenders_45age_avg_vote', 'allgenders_45age_votes',\n",
    "       'males_allages_avg_vote', 'males_allages_votes', 'males_0age_avg_vote',\n",
    "       'males_0age_votes', 'males_18age_avg_vote', 'males_18age_votes',\n",
    "       'males_30age_avg_vote', 'males_30age_votes', 'males_45age_avg_vote',\n",
    "       'males_45age_votes', 'females_allages_avg_vote',\n",
    "       'females_allages_votes', 'females_0age_avg_vote', 'females_0age_votes',\n",
    "       'females_18age_avg_vote', 'females_18age_votes',\n",
    "       'females_30age_avg_vote', 'females_30age_votes',\n",
    "       'females_45age_avg_vote', 'females_45age_votes']]"
   ]
  },
  {
   "cell_type": "code",
   "execution_count": null,
   "id": "7d432b14-610f-4941-8042-b4765b99088e",
   "metadata": {},
   "outputs": [],
   "source": []
  },
  {
   "cell_type": "code",
   "execution_count": 11,
   "id": "6fdb2aaf-90f5-4535-acaf-c896937e39b0",
   "metadata": {},
   "outputs": [
    {
     "data": {
      "text/plain": [
       "Index(['imdb_title_id', 'weighted_average_vote', 'total_votes', 'mean_vote',\n",
       "       'median_vote', 'votes_10', 'votes_9', 'votes_8', 'votes_7', 'votes_6',\n",
       "       'votes_5', 'votes_4', 'votes_3', 'votes_2', 'votes_1',\n",
       "       'allgenders_0age_avg_vote', 'allgenders_0age_votes',\n",
       "       'allgenders_18age_avg_vote', 'allgenders_18age_votes',\n",
       "       'allgenders_30age_avg_vote', 'allgenders_30age_votes',\n",
       "       'allgenders_45age_avg_vote', 'allgenders_45age_votes',\n",
       "       'males_allages_avg_vote', 'males_allages_votes', 'males_0age_avg_vote',\n",
       "       'males_0age_votes', 'males_18age_avg_vote', 'males_18age_votes',\n",
       "       'males_30age_avg_vote', 'males_30age_votes', 'males_45age_avg_vote',\n",
       "       'males_45age_votes', 'females_allages_avg_vote',\n",
       "       'females_allages_votes', 'females_0age_avg_vote', 'females_0age_votes',\n",
       "       'females_18age_avg_vote', 'females_18age_votes',\n",
       "       'females_30age_avg_vote', 'females_30age_votes',\n",
       "       'females_45age_avg_vote', 'females_45age_votes',\n",
       "       'top1000_voters_rating', 'top1000_voters_votes', 'us_voters_rating',\n",
       "       'us_voters_votes', 'non_us_voters_rating', 'non_us_voters_votes'],\n",
       "      dtype='object')"
      ]
     },
     "execution_count": 11,
     "metadata": {},
     "output_type": "execute_result"
    }
   ],
   "source": [
    "ratings.columns\n"
   ]
  },
  {
   "cell_type": "code",
   "execution_count": 21,
   "id": "e45d8cdd-a280-4c6f-917f-c61ce4b1945e",
   "metadata": {},
   "outputs": [
    {
     "data": {
      "text/plain": [
       "Index(['imdb_title_id', 'title', 'original_title', 'year', 'date_published',\n",
       "       'genre', 'duration', 'country', 'language', 'director', 'writer',\n",
       "       'production_company', 'actors', 'description', 'avg_vote', 'votes',\n",
       "       'budget', 'usa_gross_income', 'worlwide_gross_income', 'metascore',\n",
       "       'reviews_from_users', 'reviews_from_critics'],\n",
       "      dtype='object')"
      ]
     },
     "execution_count": 21,
     "metadata": {},
     "output_type": "execute_result"
    }
   ],
   "source": [
    "movies.columns"
   ]
  },
  {
   "cell_type": "code",
   "execution_count": null,
   "id": "9f54baaa-c2e3-4e42-b5b9-09434beb9336",
   "metadata": {},
   "outputs": [],
   "source": []
  },
  {
   "cell_type": "markdown",
   "id": "e0ec221f-f1c5-463b-8266-815922253ee3",
   "metadata": {},
   "source": [
    "# processing questions:\n",
    " - How do we want to deal with movies not made in the US?\n",
    "     - we can keep them for some analyses and not others\n",
    "     - budget will be the most annoying to deal with cause there's so many different currencies, might be easiest to stick to only US made movies when doing budget analysis, especially cause if we're handling inflation too, going between inflation along with changing inflation rates over time would be annoying\n",
    "     \n",
    "# To Do:\n",
    " - clean the budget column\n",
    "\n",
    "## columns to use:\n",
    " - budgets\n",
    " - income\n",
    " - rating\n",
    " - men + womens ratings\n",
    " - individual rating data\n",
    " - genre\n",
    "     - group\n",
    " - duration\n",
    " - production company\n",
    " - director + writer + actor (maybe)\n",
    "     - encode these values\n",
    " \n",
    "## main question\n",
    " - can we predict weighted average\n",
    " - can we predict genre\n",
    "     - clustering genre (first maybe)\n",
    "     \n"
   ]
  },
  {
   "cell_type": "code",
   "execution_count": null,
   "id": "fd212aec-db49-4bfb-9ff5-25dd425904f6",
   "metadata": {},
   "outputs": [],
   "source": []
  },
  {
   "cell_type": "code",
   "execution_count": 18,
   "id": "7a20bdf8-5a6d-4aee-996d-9ea2bf59e3fa",
   "metadata": {},
   "outputs": [
    {
     "data": {
      "text/plain": [
       "Index(['imdb_name_id', 'name', 'birth_name', 'height', 'bio', 'birth_details',\n",
       "       'date_of_birth', 'place_of_birth', 'death_details', 'date_of_death',\n",
       "       'place_of_death', 'reason_of_death', 'spouses_string', 'spouses',\n",
       "       'divorces', 'spouses_with_children', 'children'],\n",
       "      dtype='object')"
      ]
     },
     "execution_count": 18,
     "metadata": {},
     "output_type": "execute_result"
    }
   ],
   "source": [
    "names.columns"
   ]
  },
  {
   "cell_type": "code",
   "execution_count": 16,
   "id": "8cd1fb95-918e-4887-8bd3-b250d7517984",
   "metadata": {},
   "outputs": [
    {
     "data": {
      "text/plain": [
       "<matplotlib.axes._subplots.AxesSubplot at 0x7fbdc7860d10>"
      ]
     },
     "execution_count": 16,
     "metadata": {},
     "output_type": "execute_result"
    },
    {
     "data": {
      "image/png": "[encoded data removed]",
      "text/plain": [
       "<Figure size 1080x360 with 3 Axes>"
      ]
     },
     "metadata": {
      "needs_background": "light"
     },
     "output_type": "display_data"
    }
   ],
   "source": [
    "fig, ax = plt.subplots(nrows = 1, ncols = 3, figsize = (15,5))\n",
    "sns.histplot(data = ratings, x = 'weighted_average_vote', ax = ax[0])\n",
    "sns.histplot(data = ratings, x = 'males_allages_avg_vote', ax = ax[1])\n",
    "sns.histplot(data = ratings, x = 'females_allages_avg_vote', ax = ax[2])"
   ]
  },
  {
   "cell_type": "code",
   "execution_count": null,
   "id": "79730b41-7688-4c3b-a748-57bb3ef31ee9",
   "metadata": {},
   "outputs": [],
   "source": []
  },
  {
   "cell_type": "code",
   "execution_count": null,
   "id": "d66b63c4-c0d8-4bb0-9c1c-9c8a8d0ab3f6",
   "metadata": {},
   "outputs": [],
   "source": []
  },
  {
   "cell_type": "code",
   "execution_count": null,
   "id": "0a7c0ae7-60ab-491d-b952-563607494d9e",
   "metadata": {},
   "outputs": [],
   "source": []
  }
 ],
 "metadata": {
  "kernelspec": {
   "display_name": "Python 3 (ipykernel)",
   "language": "python",
   "name": "python3"
  },
  "language_info": {
   "codemirror_mode": {
    "name": "ipython",
    "version": 3
   },
   "file_extension": ".py",
   "mimetype": "text/x-python",
   "name": "python",
   "nbconvert_exporter": "python",
   "pygments_lexer": "ipython3",
   "version": "3.7.4"
  }
 },
 "nbformat": 4,
 "nbformat_minor": 5
}
